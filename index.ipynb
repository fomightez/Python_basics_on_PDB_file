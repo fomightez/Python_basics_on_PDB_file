{
 "cells": [
  {
   "cell_type": "markdown",
   "metadata": {
    "slideshow": {
     "slide_type": "slide"
    }
   },
   "source": [
    "# Python basics for exploring a PDB file\n",
    "\n",
    "See [here](https://github.com/fomightez/Python_basics_on_PDB_file) for information about this notebook.\n",
    "\n",
    "------\n",
    "\n",
    "<div class=\"alert alert-block alert-warning\">\n",
    "<p>If you haven't used one of these notebooks before, they're basically web pages in which you can write, edit, and run live code. They're meant to encourage experimentation, so don't feel nervous. Just try running a few cells and see what happens!.</p>\n",
    "\n",
    "<p>\n",
    "    Some tips:\n",
    "    <ul>\n",
    "        <li>Code cells have boxes around them.</li>\n",
    "        <li>To run a code cell either click the Play icon on the menu bar above, or click on the cell and then hit <b>Shift+Enter</b>. The <b>Shift+Enter</b> combo will also move you to the next cell, so it's a quick way to work through the notebook.</li>\n",
    "        <li>While a cell is running a <b>*</b> appears in the square brackets next to the cell. Once the cell has finished running the asterisk will be replaced with a number.</li>\n",
    "        <li>In most cases you'll want to start from the top of notebook and work your way down running each cell in turn. Later cells might depend on the results of earlier ones.</li>\n",
    "        <li>To edit a code cell, just click on it and type stuff. Remember to run the cell once you've finished editing.</li>\n",
    "    </ul>\n",
    "</p>\n",
    "</div>\n",
    "\n",
    "\n",
    "These sessions are temporary and will time out after ten minutes of inactivity. However, a safety net is built in if you start doing serious work in these. Even if it times out, you can save the notebook and upload it again later. See the notebook [safety net demo](safety%20net%20demo.ipynb) so that you are prepared for when it happens. You won't be able to open the demo if it has already happened.\n",
    "\n",
    "----\n",
    "\n"
   ]
  },
  {
   "cell_type": "markdown",
   "metadata": {},
   "source": [
    "## Starting simple\n",
    "\n",
    "\n",
    "## Pre-processing this PDB file to look more typical\n",
    "\n",
    "Use a file derived from [PDB entry for 3hyd](https://files.rcsb.org/view/3hyd.pdb) to see about columns.\n",
    "\n",
    "3hyd we saw in the electron density cloud to isomesh demo tosay.\n",
    "\n",
    "[PDB entry for 3hyd](https://files.rcsb.org/view/3hyd.pdb) was modified to remove the anisotropic temperature factor lines. They begin with `ANISOU`. \n",
    "\n",
    "To remove those lines from the original [3hyd.pdb](3hyd.pdb) file, I used regular expressions in a text editor. (Not Microsoft Word). This is like fancy 'Find and replace'.  \n",
    "We could use Python for this data pre-procesing step, but sometimes there is an easier way.\n",
    "\n",
    "The specifics are spelled out in [How_made_without_ANISOU_lines.md](How_made_without_ANISOU_lines.md). \n",
    "\n",
    "Let's use a fragment of the PDB file to see how it is done. We'll use [REGEX101](https://regex101.com/) to demonstrate right now.\n",
    "\n",
    "Performing that process on `3hyd.pdb` results in [3hydWITHOUTanisouLINES.pdb](3hydWITHOUTanisouLINES.pdb)."
   ]
  },
  {
   "cell_type": "code",
   "execution_count": null,
   "metadata": {},
   "outputs": [],
   "source": []
  },
  {
   "cell_type": "code",
   "execution_count": null,
   "metadata": {},
   "outputs": [],
   "source": []
  },
  {
   "cell_type": "code",
   "execution_count": null,
   "metadata": {},
   "outputs": [],
   "source": []
  },
  {
   "cell_type": "code",
   "execution_count": null,
   "metadata": {},
   "outputs": [
    {
     "name": "stdout",
     "output_type": "stream",
     "text": [
      ".\n"
     ]
    }
   ],
   "source": [
    "# DISREGARD THIS CELL. IT IS A UTILITY, I USE DURING DEVELOPMENT.\n",
    "import time\n",
    "\n",
    "def executeSomething():\n",
    "    #code here\n",
    "    print ('.')\n",
    "    time.sleep(480) #60 seconds times 8 minutes\n",
    "\n",
    "while True:\n",
    "    executeSomething()"
   ]
  },
  {
   "cell_type": "code",
   "execution_count": null,
   "metadata": {},
   "outputs": [],
   "source": []
  }
 ],
 "metadata": {
  "celltoolbar": "Slideshow",
  "kernelspec": {
   "display_name": "Python 3",
   "language": "python",
   "name": "python3"
  },
  "language_info": {
   "codemirror_mode": {
    "name": "ipython",
    "version": 3
   },
   "file_extension": ".py",
   "mimetype": "text/x-python",
   "name": "python",
   "nbconvert_exporter": "python",
   "pygments_lexer": "ipython3",
   "version": "3.7.6"
  },
  "livereveal": {
   "autolaunch": true,
   "scroll": true
  }
 },
 "nbformat": 4,
 "nbformat_minor": 4
}
